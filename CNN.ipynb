{
 "cells": [
  {
   "cell_type": "code",
   "execution_count": 1,
   "id": "handled-defeat",
   "metadata": {},
   "outputs": [],
   "source": [
    "from keras.models import Sequential\n",
    "from keras.layers import Convolution2D\n",
    "from keras.layers import MaxPooling2D\n",
    "from keras.layers import Flatten\n",
    "from keras.layers import Dense"
   ]
  },
  {
   "cell_type": "code",
   "execution_count": 2,
   "id": "considerable-ocean",
   "metadata": {},
   "outputs": [],
   "source": [
    "# Initialization of the CNN\n",
    "classifier = Sequential()"
   ]
  },
  {
   "cell_type": "code",
   "execution_count": 3,
   "id": "atmospheric-serum",
   "metadata": {},
   "outputs": [],
   "source": [
    "# Step 1 : Convolution\n",
    "classifier.add(Convolution2D(32, 3, 3, input_shape=(64, 64, 3), activation='relu'))"
   ]
  },
  {
   "cell_type": "code",
   "execution_count": 4,
   "id": "caring-middle",
   "metadata": {},
   "outputs": [],
   "source": [
    "# Step 2 : Pooling\n",
    "classifier.add(MaxPooling2D(pool_size=(2, 2)))"
   ]
  },
  {
   "cell_type": "code",
   "execution_count": 5,
   "id": "intense-threshold",
   "metadata": {},
   "outputs": [],
   "source": [
    "# Adding a second convolutional layer\n",
    "# We modifiy the input shape according to the shape of Maxpooling \n",
    "# we delete the input shape because we already specified it before\n",
    "classifier.add(Convolution2D(32, 3, 3, activation='relu'))\n",
    "classifier.add(MaxPooling2D(pool_size=(2, 2)))"
   ]
  },
  {
   "cell_type": "code",
   "execution_count": 6,
   "id": "apart-undergraduate",
   "metadata": {},
   "outputs": [],
   "source": [
    "# Step 3 : Flattening\n",
    "classifier.add(Flatten())"
   ]
  },
  {
   "cell_type": "code",
   "execution_count": 7,
   "id": "broken-polymer",
   "metadata": {},
   "outputs": [],
   "source": [
    "# Step 4 : Full Connection\n",
    "classifier.add(Dense(units= 128, activation = 'relu'))\n",
    "classifier.add(Dense(units= 1, activation = 'sigmoid')) # because binary output sinon softmax"
   ]
  },
  {
   "cell_type": "code",
   "execution_count": 8,
   "id": "representative-athens",
   "metadata": {},
   "outputs": [],
   "source": [
    "# Compiling the CNN\n",
    "classifier.compile(optimizer= 'adam', loss= 'binary_crossentropy', metrics='accuracy') # cathegorical_crossentropy if more than 2 classes"
   ]
  },
  {
   "cell_type": "markdown",
   "id": "accepted-daisy",
   "metadata": {},
   "source": [
    "# Part 2 : Fitting the CNN to the image \n",
    "### Making a data augmentation prevent overfitting (having great results on the train set and bad test set accuracy) \n",
    "### Data augmentation = random transformations like cropping, padding, and horizontal flipping "
   ]
  },
  {
   "cell_type": "code",
   "execution_count": 9,
   "id": "certified-burning",
   "metadata": {},
   "outputs": [
    {
     "name": "stdout",
     "output_type": "stream",
     "text": [
      "Found 8000 images belonging to 2 classes.\n"
     ]
    }
   ],
   "source": [
    "from keras.preprocessing.image import ImageDataGenerator\n",
    "\n",
    "train_datagen = ImageDataGenerator(\n",
    "        rescale=1./255,\n",
    "        shear_range=0.2,\n",
    "        zoom_range=0.2,\n",
    "        horizontal_flip=True)\n",
    "\n",
    "training_set = train_datagen.flow_from_directory('dataset/training_set',\n",
    "                                                    target_size = (64, 64), # whitch must correspond to the input shape step 1\n",
    "                                                    batch_size = 32, # number of images whitch go throught the CNN after the weight are updated\n",
    "                                                    class_mode = 'binary')  # for 2 class to predict\n",
    "\n",
    "# Increasing the target size will improve the accuracy (use a GPU instead - faster -)\n"
   ]
  },
  {
   "cell_type": "code",
   "execution_count": 10,
   "id": "alert-tours",
   "metadata": {},
   "outputs": [
    {
     "name": "stdout",
     "output_type": "stream",
     "text": [
      "Found 2000 images belonging to 2 classes.\n"
     ]
    }
   ],
   "source": [
    "test_datagen = ImageDataGenerator(rescale=1./255) # rescale all pixels value between 0 and 1\n",
    "test_set = test_datagen.flow_from_directory('dataset/test_set',\n",
    "                                            target_size= (64, 64),\n",
    "                                            batch_size= 32,\n",
    "                                            class_mode='binary')"
   ]
  },
  {
   "cell_type": "code",
   "execution_count": 11,
   "id": "popular-infrastructure",
   "metadata": {},
   "outputs": [
    {
     "name": "stderr",
     "output_type": "stream",
     "text": [
      "/home/helloworld/anaconda3/lib/python3.8/site-packages/tensorflow/python/keras/engine/training.py:1844: UserWarning: `Model.fit_generator` is deprecated and will be removed in a future version. Please use `Model.fit`, which supports generators.\n",
      "  warnings.warn('`Model.fit_generator` is deprecated and '\n"
     ]
    },
    {
     "name": "stdout",
     "output_type": "stream",
     "text": [
      "Epoch 1/25\n",
      "250/250 [==============================] - 35s 139ms/step - loss: 0.6935 - accuracy: 0.5160 - val_loss: 0.6910 - val_accuracy: 0.5475\n",
      "Epoch 2/25\n",
      "250/250 [==============================] - 34s 137ms/step - loss: 0.6918 - accuracy: 0.5255 - val_loss: 0.6926 - val_accuracy: 0.5245\n",
      "Epoch 3/25\n",
      "250/250 [==============================] - 34s 137ms/step - loss: 0.6847 - accuracy: 0.5501 - val_loss: 0.6651 - val_accuracy: 0.6205\n",
      "Epoch 4/25\n",
      "250/250 [==============================] - 34s 138ms/step - loss: 0.6608 - accuracy: 0.6083 - val_loss: 0.6802 - val_accuracy: 0.5925\n",
      "Epoch 5/25\n",
      "250/250 [==============================] - 34s 137ms/step - loss: 0.6535 - accuracy: 0.6158 - val_loss: 0.6524 - val_accuracy: 0.6170\n",
      "Epoch 6/25\n",
      "250/250 [==============================] - 34s 138ms/step - loss: 0.6417 - accuracy: 0.6296 - val_loss: 0.6405 - val_accuracy: 0.6350\n",
      "Epoch 7/25\n",
      "250/250 [==============================] - 34s 137ms/step - loss: 0.6315 - accuracy: 0.6449 - val_loss: 0.6256 - val_accuracy: 0.6465\n",
      "Epoch 8/25\n",
      "250/250 [==============================] - 34s 138ms/step - loss: 0.6255 - accuracy: 0.6481 - val_loss: 0.6260 - val_accuracy: 0.6540\n",
      "Epoch 9/25\n",
      "250/250 [==============================] - 34s 137ms/step - loss: 0.6074 - accuracy: 0.6683 - val_loss: 0.6204 - val_accuracy: 0.6600\n",
      "Epoch 10/25\n",
      "250/250 [==============================] - 34s 137ms/step - loss: 0.6120 - accuracy: 0.6674 - val_loss: 0.6140 - val_accuracy: 0.6630\n",
      "Epoch 11/25\n",
      "250/250 [==============================] - 34s 138ms/step - loss: 0.6047 - accuracy: 0.6638 - val_loss: 0.6110 - val_accuracy: 0.6590\n",
      "Epoch 12/25\n",
      "250/250 [==============================] - 34s 137ms/step - loss: 0.6054 - accuracy: 0.6684 - val_loss: 0.6091 - val_accuracy: 0.6650\n",
      "Epoch 13/25\n",
      "250/250 [==============================] - 34s 138ms/step - loss: 0.5961 - accuracy: 0.6760 - val_loss: 0.6045 - val_accuracy: 0.6805\n",
      "Epoch 14/25\n",
      "250/250 [==============================] - 34s 137ms/step - loss: 0.5940 - accuracy: 0.6895 - val_loss: 0.6160 - val_accuracy: 0.6525\n",
      "Epoch 15/25\n",
      "250/250 [==============================] - 35s 138ms/step - loss: 0.6005 - accuracy: 0.6774 - val_loss: 0.6066 - val_accuracy: 0.6590\n",
      "Epoch 16/25\n",
      "250/250 [==============================] - 34s 137ms/step - loss: 0.5881 - accuracy: 0.6814 - val_loss: 0.6220 - val_accuracy: 0.6595\n",
      "Epoch 17/25\n",
      "250/250 [==============================] - 34s 138ms/step - loss: 0.5919 - accuracy: 0.6806 - val_loss: 0.6087 - val_accuracy: 0.6615\n",
      "Epoch 18/25\n",
      "250/250 [==============================] - 35s 138ms/step - loss: 0.5841 - accuracy: 0.6907 - val_loss: 0.6093 - val_accuracy: 0.6605\n",
      "Epoch 19/25\n",
      "250/250 [==============================] - 34s 137ms/step - loss: 0.5782 - accuracy: 0.6970 - val_loss: 0.6142 - val_accuracy: 0.6630\n",
      "Epoch 20/25\n",
      "250/250 [==============================] - 34s 137ms/step - loss: 0.5765 - accuracy: 0.6989 - val_loss: 0.6158 - val_accuracy: 0.6750\n",
      "Epoch 21/25\n",
      "250/250 [==============================] - 34s 137ms/step - loss: 0.5807 - accuracy: 0.7032 - val_loss: 0.5981 - val_accuracy: 0.6750\n",
      "Epoch 22/25\n",
      "250/250 [==============================] - 35s 138ms/step - loss: 0.5673 - accuracy: 0.7124 - val_loss: 0.6503 - val_accuracy: 0.6310\n",
      "Epoch 23/25\n",
      "250/250 [==============================] - 35s 138ms/step - loss: 0.5704 - accuracy: 0.6966 - val_loss: 0.6005 - val_accuracy: 0.6790\n",
      "Epoch 24/25\n",
      "250/250 [==============================] - 34s 137ms/step - loss: 0.5626 - accuracy: 0.7069 - val_loss: 0.5927 - val_accuracy: 0.6790\n",
      "Epoch 25/25\n",
      "250/250 [==============================] - 35s 138ms/step - loss: 0.5628 - accuracy: 0.7045 - val_loss: 0.6073 - val_accuracy: 0.6795\n"
     ]
    },
    {
     "data": {
      "text/plain": [
       "<tensorflow.python.keras.callbacks.History at 0x7f684418c2e0>"
      ]
     },
     "execution_count": 11,
     "metadata": {},
     "output_type": "execute_result"
    }
   ],
   "source": [
    "classifier.fit_generator(training_set,\n",
    "                    validation_data = test_set,\n",
    "                    epochs = 25)"
   ]
  },
  {
   "cell_type": "code",
   "execution_count": null,
   "id": "mysterious-reaction",
   "metadata": {},
   "outputs": [],
   "source": [
    "# Accuracy of the test set with one convolutional neural network 75% "
   ]
  }
 ],
 "metadata": {
  "kernelspec": {
   "display_name": "Python 3",
   "language": "python",
   "name": "python3"
  },
  "language_info": {
   "codemirror_mode": {
    "name": "ipython",
    "version": 3
   },
   "file_extension": ".py",
   "mimetype": "text/x-python",
   "name": "python",
   "nbconvert_exporter": "python",
   "pygments_lexer": "ipython3",
   "version": "3.8.3"
  }
 },
 "nbformat": 4,
 "nbformat_minor": 5
}
